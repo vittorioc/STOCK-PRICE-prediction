{
  "nbformat": 4,
  "nbformat_minor": 0,
  "metadata": {
    "kernelspec": {
      "display_name": "Python 3",
      "language": "python",
      "name": "python3"
    },
    "language_info": {
      "codemirror_mode": {
        "name": "ipython",
        "version": 3
      },
      "file_extension": ".py",
      "mimetype": "text/x-python",
      "name": "python",
      "nbconvert_exporter": "python",
      "pygments_lexer": "ipython3",
      "version": "3.7.4"
    },
    "colab": {
      "name": "stock-price-prediction.ipynb",
      "private_outputs": true,
      "provenance": [],
      "collapsed_sections": [],
      "machine_shape": "hm"
    }
  },
  "cells": [
    {
      "cell_type": "markdown",
      "metadata": {
        "id": "ROm8kovwJIxD"
      },
      "source": [
        "# Stock price prediction using BERT and GAN\n",
        "\n",
        "based on the article: \n",
        "Priyank Sonkiya & Vikas Bajpai & Anukriti Bansal, 2021. \"Stock price prediction using BERT and GAN,\" Papers 2107.09055, arXiv.org.\n"
      ]
    },
    {
      "cell_type": "markdown",
      "metadata": {
        "id": "K0OwpFl8JIxP"
      },
      "source": [
        "## Libraries"
      ]
    },
    {
      "cell_type": "code",
      "source": [
        "!pip install yfinance"
      ],
      "metadata": {
        "id": "yFosWRDayQ90"
      },
      "execution_count": null,
      "outputs": []
    },
    {
      "cell_type": "markdown",
      "source": [
        "# Import"
      ],
      "metadata": {
        "id": "cUMtF3tzyH34"
      }
    },
    {
      "cell_type": "code",
      "metadata": {
        "id": "k3nvoSP3Btzu"
      },
      "source": [
        "import tensorflow as tf\n",
        "import tensorflow.keras as keras\n",
        "\n",
        "import numpy as np\n",
        "import pandas as pd\n",
        "import matplotlib.pyplot as plt\n",
        "\n",
        "import urllib.request\n",
        "import zipfile\n",
        "from IPython import display\n",
        "\n",
        "print(\"TensorFlow version:\", tf.__version__)\n",
        "print(\"Keras version:\", keras.__version__)\n",
        "print(\"Numpy version:\", np.__version__)\n",
        "print(\"Pandas version:\", pd.__version__)"
      ],
      "execution_count": null,
      "outputs": []
    },
    {
      "cell_type": "markdown",
      "source": [
        "# Apple Stock Price (yfinance)"
      ],
      "metadata": {
        "id": "KL9uPSH8ytDH"
      }
    },
    {
      "cell_type": "code",
      "source": [
        "import yfinance as yf\n",
        "\n",
        "symbol = 'AAPL'\n",
        "df = yf.download(symbol, start='2010-01-01', end='2021-12-31')"
      ],
      "metadata": {
        "id": "_D95UwpivCEt"
      },
      "execution_count": null,
      "outputs": []
    },
    {
      "cell_type": "markdown",
      "source": [
        "# Technical Indicators\n"
      ],
      "metadata": {
        "id": "mmW6z6quUqjJ"
      }
    },
    {
      "cell_type": "code",
      "source": [
        "plt.rcParams[\"figure.figsize\"]=20,10\n",
        "\n",
        "plt.title(symbol)\n",
        "plt.xlabel('Date')\n",
        "plt.ylabel('Closing Price (USD)')\n",
        "plt.plot(df.index, df['Close'], label='Closing Prices')\n",
        "plt.show()"
      ],
      "metadata": {
        "id": "fLJ7HcgFkcwW"
      },
      "execution_count": null,
      "outputs": []
    },
    {
      "cell_type": "markdown",
      "source": [
        "**Bollinger Bands**\n"
      ],
      "metadata": {
        "id": "bnjnqW2S8Xur"
      }
    },
    {
      "cell_type": "code",
      "source": [
        "ticker = df[('2021-01-01' <= df.index) & (df.index <= '2021-12-31')]\n",
        "\n",
        "# Typical Price\n",
        "tp = (ticker['Close'] + ticker['Low'] + ticker['High'])/3\n",
        "\n",
        "# Simple Moving Average\n",
        "sma7 = tp.rolling(7).mean()\n",
        "sma21 = tp.rolling(21).mean()\n",
        "\n",
        "sma20 = tp.rolling(20).mean()\n",
        "std20 = tp.rolling(20).std(ddof=0)\n",
        "\n",
        "bollinger_up = sma20 + 2 * std20\n",
        "bollinger_down = sma20 - 2 * std20\n",
        "\n",
        "plt.plot(ticker.index, ticker['Close'], label='Closing Price', color='blue')\n",
        "plt.plot(sma7, label='7 Day SMA', color='green', linestyle='--')\n",
        "plt.plot(sma21, label='21 Day SMA', color='red', linestyle='--')\n",
        "plt.plot(bollinger_up, label='Bollinger Up', color='cyan')\n",
        "plt.plot(bollinger_down, label='Bollinger Down', color='cyan')\n",
        "plt.fill_between(ticker.index, bollinger_up, bollinger_down, color='blue', alpha=0.1)\n",
        "\n",
        "plt.title(symbol + ' - 2021')\n",
        "plt.xlabel('Date')\n",
        "plt.ylabel('Closing Price (USD)')\n",
        "plt.legend()\n",
        "plt.show()"
      ],
      "metadata": {
        "id": "g-fc3WgcXZCz"
      },
      "execution_count": null,
      "outputs": []
    },
    {
      "cell_type": "markdown",
      "source": [
        "**Moving Average Convergence Divergence** "
      ],
      "metadata": {
        "id": "bwpMCazb8230"
      }
    },
    {
      "cell_type": "code",
      "source": [
        "exp1 = ticker['Close'].ewm(span=12, adjust=False).mean()\n",
        "exp2 = ticker['Close'].ewm(span=26, adjust=False).mean()\n",
        "macd = exp1 - exp2\n",
        "exp3 = macd.ewm(span=9, adjust=False).mean()\n",
        "\n",
        "fig, ax1 = plt.subplots()\n",
        "ax1.plot(ticker['Close'], label='Closing Price', color='blue')\n",
        "ax2 = ax1.twinx()\n",
        "ax2.plot(exp3, label='Signal Line', color='green')\n",
        "ax2.plot(macd, label=symbol + ' MACD', color='red')\n",
        "\n",
        "ax1.set_ylabel('Closing Price (USD)')\n",
        "ax2.set_ylabel('MACD')\n",
        "plt.title(symbol + ' - 2021')\n",
        "plt.xlabel('Date')\n",
        "lines = ax1.get_lines() + ax2.get_lines()\n",
        "plt.legend(lines, [l.get_label() for l in lines], loc='upper left')\n",
        "plt.show()"
      ],
      "metadata": {
        "id": "LRmqJuetToVb"
      },
      "execution_count": null,
      "outputs": []
    },
    {
      "cell_type": "markdown",
      "source": [
        "**Relative Strength Index**"
      ],
      "metadata": {
        "id": "I4votX9P8-3n"
      }
    },
    {
      "cell_type": "code",
      "source": [
        "delta = ticker['Close'].diff()\n",
        "up = delta.clip(lower=0)\n",
        "down = -1 * delta.clip(upper=0)\n",
        "ema_up = up.ewm(com=13, adjust=False).mean()\n",
        "ema_down = down.ewm(com=13, adjust=False).mean()\n",
        "rs = ema_up / ema_down\n",
        "rsi = 100 - (100 / (1 + rs))\n",
        "\n",
        "# Skip first 14 days to have real values\n",
        "# ticker_skip14 = ticker.iloc[14:]\n",
        "fig, ax1 = plt.subplots()\n",
        "line1, = ax1.plot(ticker['Close'], label='Closing Price', color='blue')\n",
        "ax2 = ax1.twinx()\n",
        "line2, = ax2.plot(rsi, label='RSI', color='purple')\n",
        "ax2.set_ylim(0,100)\n",
        "ax2.axhline(30, color='green', linestyle=':')\n",
        "ax2.axhline(50, color='orange', linestyle=':')\n",
        "ax2.axhline(70, color='red', linestyle=':')\n",
        "ax2.axhspan(30, 70, facecolor='blue', alpha=0.1)\n",
        "\n",
        "ax1.set_ylabel('Closing Price (USD)')\n",
        "ax2.set_ylabel('RSI')\n",
        "plt.title(symbol + ' - 2021')\n",
        "plt.xlabel('Date')\n",
        "plt.legend([line1, line2], [line1.get_label(), line2.get_label()], loc='upper left')\n",
        "plt.show()"
      ],
      "metadata": {
        "id": "L0j6oO5Kr22P"
      },
      "execution_count": null,
      "outputs": []
    }
  ]
}